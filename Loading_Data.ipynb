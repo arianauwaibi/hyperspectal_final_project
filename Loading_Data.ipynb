{
 "cells": [
  {
   "cell_type": "markdown",
   "metadata": {},
   "source": [
    "# Training and Testing "
   ]
  },
  {
   "cell_type": "code",
   "execution_count": 94,
   "metadata": {},
   "outputs": [],
   "source": [
    "import numpy as np \n",
    "import cv2\n",
    "import matplotlib.pyplot as plt\n",
    "\n",
    "import pickle5 as pk\n",
    "\n",
    "from sklearn import datasets, metrics\n",
    "from sklearn.model_selection import train_test_split\n",
    "from sklearn import preprocessing\n",
    "from sklearn.neural_network import MLPClassifier\n",
    "from sklearn import svm, datasets\n",
    "from sklearn import metrics\n",
    "from sklearn.metrics import plot_confusion_matrix\n",
    "\n",
    "from sklearn.svm import SVC\n"
   ]
  },
  {
   "cell_type": "markdown",
   "metadata": {},
   "source": [
    "1. load the test_class_label.npy and train_class_label.npy  file into your jupyther notebook"
   ]
  },
  {
   "cell_type": "code",
   "execution_count": 70,
   "metadata": {},
   "outputs": [
    {
     "name": "stdout",
     "output_type": "stream",
     "text": [
      "showing the size of trianing data set (2832,)\n",
      "showing the size of test data set (12002,)\n",
      "[1 1 1 1]\n"
     ]
    }
   ],
   "source": [
    "train_labels =np.load('/Users/arianauwaibi/Downloads/train_classes_label.npy')\n",
    "\n",
    "test_labels = np.load('/Users/arianauwaibi/Downloads/test_classes_label.npy')\n",
    " \n",
    "print('showing the size of trianing data set',train_labels.shape)   # Training the machince learning algortirm with this data set and will be later then the test data\n",
    "print('showing the size of test data set',test_labels.shape)  \n",
    "\n",
    "\n",
    "print(train_labels[1:5])"
   ]
  },
  {
   "cell_type": "markdown",
   "metadata": {},
   "source": [
    "2. load the train_number_sample_perclass.npy and test_number_sample_perclass.npy into your jupyther notebook."
   ]
  },
  {
   "cell_type": "code",
   "execution_count": 71,
   "metadata": {},
   "outputs": [
    {
     "name": "stdout",
     "output_type": "stream",
     "text": [
      "1034\n",
      "Number of Pixels for Training 2832\n",
      "Number of Pixels for Testing 12002\n",
      "1045\n"
     ]
    }
   ],
   "source": [
    "train_number_sample = np.load('/Users/arianauwaibi/Downloads/train_number_sample_perclass.npy')\n",
    "\n",
    "test_number_sample = np.load('/Users/arianauwaibi/Downloads/test_number_sample_perclass.npy')\n",
    "\n",
    "print(test_number_sample[1])\n",
    "\n",
    "size_test = np.load('/Users/arianauwaibi/Downloads/size_test.npy')\n",
    "size_train = np.load('/Users/arianauwaibi/Downloads/size_train.npy')\n",
    "\n",
    "print('Number of Pixels for Training',size_train)\n",
    "\n",
    "print('Number of Pixels for Testing',size_test)\n",
    "\n",
    "\n",
    "#Shows the number of Pixels inn the First Class \n",
    "print(test_number_sample[0])\n",
    "\n"
   ]
  },
  {
   "cell_type": "markdown",
   "metadata": {},
   "source": [
    "3. compare the number of elements that  train_number_sample_perclass.npy  and  train_class_label.npy, they must have the same number of elements. Do the same with the test data."
   ]
  },
  {
   "cell_type": "code",
   "execution_count": 72,
   "metadata": {},
   "outputs": [
    {
     "name": "stdout",
     "output_type": "stream",
     "text": [
      "showing the size of trianing data set (15,)\n",
      "showing the size of test data set (15,)\n",
      "(15,)\n",
      "(15,)\n",
      "Number of Samples in TRAINING Set\n",
      "class # 0,number of sample is 198\n",
      "class # 1,number of sample is 190\n",
      "class # 2,number of sample is 192\n",
      "class # 3,number of sample is 188\n",
      "class # 4,number of sample is 186\n",
      "class # 5,number of sample is 182\n",
      "class # 6,number of sample is 196\n",
      "class # 7,number of sample is 191\n",
      "class # 8,number of sample is 193\n",
      "class # 9,number of sample is 191\n",
      "class # 10,number of sample is 181\n",
      "class # 11,number of sample is 192\n",
      "class # 12,number of sample is 184\n",
      "class # 13,number of sample is 181\n",
      "class # 14,number of sample is 187\n",
      "Number of Samples for TESTING Set\n",
      "class # 0,number of sample is 1045\n",
      "class # 1,number of sample is 1034\n",
      "class # 2,number of sample is 502\n",
      "class # 3,number of sample is 1053\n",
      "class # 4,number of sample is 1057\n",
      "class # 5,number of sample is 143\n",
      "class # 6,number of sample is 1018\n",
      "class # 7,number of sample is 1042\n",
      "class # 8,number of sample is 1033\n",
      "class # 9,number of sample is 1034\n",
      "class # 10,number of sample is 1023\n",
      "class # 11,number of sample is 1031\n",
      "class # 12,number of sample is 269\n",
      "class # 13,number of sample is 246\n",
      "class # 14,number of sample is 472\n"
     ]
    }
   ],
   "source": [
    "print('showing the size of trianing data set',train_number_sample.shape) \n",
    "print('showing the size of test data set',test_number_sample.shape)  \n",
    "\n",
    "print(train_number_sample.shape)\n",
    "print(test_number_sample.shape)\n",
    "\n",
    "\n",
    "#For loop for the Amount of Pixels per Class\n",
    "\n",
    "print(\"Number of Samples in TRAINING Set\")\n",
    "for index in range(len(train_number_sample)):\n",
    "    print('class # {0:d},number of sample is {1:d}'.format(index,train_number_sample[index]))\n",
    "\n",
    "print(\"Number of Samples for TESTING Set\")\n",
    "for index in range(len(test_number_sample)):\n",
    "    print('class # {0:d},number of sample is {1:d}'.format(index,test_number_sample[index]))\n",
    "\n"
   ]
  },
  {
   "cell_type": "markdown",
   "metadata": {},
   "source": [
    "4. Find a possible solution to use those files and the hyperspectral image to classify the images. \n",
    "you can try to do an implementation upon our previous code."
   ]
  },
  {
   "cell_type": "markdown",
   "metadata": {},
   "source": [
    "Importing Pickle File that contains pixel data for Training and Testing"
   ]
  },
  {
   "cell_type": "code",
   "execution_count": null,
   "metadata": {},
   "outputs": [],
   "source": [
    "infile = open('/Users/arianauwaibi/Downloads/train_classes_pixels.pkl','rb')\n",
    "train_class_pixels = pk.load(infile)\n",
    "infile.close()\n",
    "\n",
    "\n",
    "infile2 = open('/Users/arianauwaibi/Downloads/test_classes_pixels.pkl','rb')\n",
    "test_class_pixels = pk.load(infile2)\n",
    "infile2.close()\n",
    "\n",
    "print(test_class_pixels)"
   ]
  },
  {
   "cell_type": "markdown",
   "metadata": {},
   "source": [
    "Printing numbers of Classes and Size of the Train and Test Pixels"
   ]
  },
  {
   "cell_type": "code",
   "execution_count": 74,
   "metadata": {},
   "outputs": [],
   "source": [
    "#number of pixels are mxm\n",
    "\n",
    "# b x [nxm]\n",
    "    #b = the number of bands\n",
    "    #n x m is the number of pixels per column and row \n"
   ]
  },
  {
   "cell_type": "code",
   "execution_count": 75,
   "metadata": {},
   "outputs": [
    {
     "name": "stdout",
     "output_type": "stream",
     "text": [
      "12199\n",
      "showing the size of image (144, 664845)\n",
      "[  491   569   720   818   946  1008  1219  1304  1740  2014  2182  2270\n",
      "  2410  2482  2406  2518  2723  3011  3169  3262  3309  3354  3412  3346\n",
      "  3345  3301  3180  3218  3255  3228  3310  3404  3453  3578  3957  4167\n",
      "  4348  4378  4405  4456  4546  4403  4344  4193  3932  3856  3785  3577\n",
      "  3333  3316  3370  3425  3283  3146  3135  2994  2939  2905  2872  2740\n",
      "  2587  2503  2411  2482  2428  2371  2374  2360  1659  2334  2773  3292\n",
      "  4029  4833  5187  5031  5933  6874  8949 10512 11913 12738 13080 11527\n",
      "  7963 11431 13482 13596 13640 13169 12632 12524 12443 12472 11673  9410\n",
      "  9300  9758 10025 10669 11628 11984 11974 11606 12038 12106 11814 12097\n",
      " 12119 11852 11756 10971  8509  7357  7655  6576  6169  7017  6626  3836\n",
      "  1769  2062  1991  2100  2325  2768  3760  5382  6240  6395  7531  8626\n",
      "  9358  9660  9534  9537  9641  9844  9728  9698  9801  9916  9682  9876]\n"
     ]
    },
    {
     "data": {
      "text/plain": [
       "(144,)"
      ]
     },
     "execution_count": 75,
     "metadata": {},
     "output_type": "execute_result"
    }
   ],
   "source": [
    "print(test_class_pixels[0][0])\n",
    "\n",
    "h_town = np.load('/Users/arianauwaibi/Downloads/hs_houston.npy')\n",
    "\n",
    "print('showing the size of image',h_town.shape)\n",
    "\n",
    "type(h_town)\n",
    "\n",
    "#Plotting the Spectral Signture if all the Bands (out of 144) in the 1st postion 1st (0) in the 1st Pixels \n",
    "\n",
    "who = h_town[:,test_class_pixels[0][0]]\n",
    "\n",
    "print(who)\n",
    "who.shape\n"
   ]
  },
  {
   "cell_type": "code",
   "execution_count": 76,
   "metadata": {},
   "outputs": [
    {
     "data": {
      "image/png": "[encoded data removed]",
      "text/plain": [
       "<Figure size 432x288 with 1 Axes>"
      ]
     },
     "metadata": {
      "needs_background": "light"
     },
     "output_type": "display_data"
    }
   ],
   "source": [
    "\n",
    "\n",
    "# plotting spectral signature of training and testing pixels\n",
    "pixels = (1,2,3,4,5)\n",
    "class_pixels = 0\n",
    "bands = 144\n",
    "fig,ax = plt.subplots() #create figure and axes\n",
    "for pixels_index in range(0,len(pixels)):\n",
    "    ax.plot(range(0,bands), h_town[:,test_class_pixels[10][pixels[pixels_index]]])\n",
    "    ax.set_title(\"Bands: %i\" % bands)"
   ]
  },
  {
   "cell_type": "markdown",
   "metadata": {},
   "source": [
    "# Training The Model Super vector machine or Convultrarty \n"
   ]
  },
  {
   "cell_type": "markdown",
   "metadata": {},
   "source": [
    "Build an Array for Training the Model \n",
    "\n",
    "This can be done by making an iteration to extract all the pixel indices from each class\n",
    "\n",
    "Step 1 Figure out how to sepertrae each class and its label \n",
    "\n",
    "15 classes/labels\n",
    "\n",
    "\n",
    "\n",
    "for each class we need to go through the pixel index in each class\n",
    "\n",
    "    for ecah index in the class we need to find those values in the hs array\n",
    "\n",
    "n_class = 15 \n",
    "\n",
    "i = index for the different classes\n",
    "\n",
    "\n",
    "for i in range(0,n_class)\n",
    "    for each index in class\n",
    "        x_train_appened = h_town[i][each pixel index]\n",
    "\n",
    "\n",
    "1st the for loop goes through each class then it goes through the index of the class then assigns that index to the (band,pixel format so we are recreating the image)\n"
   ]
  },
  {
   "cell_type": "code",
   "execution_count": 86,
   "metadata": {},
   "outputs": [],
   "source": [
    "#Training \n",
    "\n",
    "n_class = 15 \n",
    "\n",
    "x_train =[]\n",
    "\n",
    "for i in range(n_class):\n",
    "    for j in range(train_number_sample[i]): \n",
    "        x_train.append(h_town[:,train_class_pixels[i][j]])\n",
    "x_train = np.array(x_train)\n",
    "\n",
    "# Testing \n",
    "x_test= []\n",
    "\n",
    "for i in range(n_class):\n",
    "    for j in range(test_number_sample[i]): \n",
    "        x_test.append(h_town[:,test_class_pixels[i][j]])\n",
    "x_test = np.array(x_test)"
   ]
  },
  {
   "cell_type": "code",
   "execution_count": 95,
   "metadata": {},
   "outputs": [
    {
     "name": "stdout",
     "output_type": "stream",
     "text": [
      "[ 1  1  1 ... 15 15 15]\n"
     ]
    }
   ],
   "source": [
    "# SVM classifier: x_train is row x bands\n",
    "svm = SVC()\n",
    "svm.fit(x_train, train_labels)\n",
    "print(svm.predict(x_test))\n"
   ]
  },
  {
   "cell_type": "markdown",
   "metadata": {},
   "source": [
    "#Print the Matrix \n",
    "Accrutay using test labels\n",
    "\n",
    "Make the black/ blue cube"
   ]
  },
  {
   "cell_type": "code",
   "execution_count": null,
   "metadata": {},
   "outputs": [],
   "source": [
    "#plot confusion matrix\n",
    "\n",
    "title_options= [(\"Confusion matrix, normalized\", None)]\n",
    "\n",
    "for title, normalize in title_options:\n",
    "    disp= plot_confusion_matrix(knn_cl, x_test, y_test, cmap=plt.cm.Blues, normalize= normalize)\n",
    "    disp.ax_.set_title(title)\n",
    "\n",
    "    print(title)\n",
    "    print(disp.confusion_matrix)\n",
    "plt.show()"
   ]
  }
 ],
 "metadata": {
  "interpreter": {
   "hash": "aee8b7b246df8f9039afb4144a1f6fd8d2ca17a180786b69acc140d282b71a49"
  },
  "kernelspec": {
   "display_name": "Python 3.10.1 64-bit",
   "language": "python",
   "name": "python3"
  },
  "language_info": {
   "codemirror_mode": {
    "name": "ipython",
    "version": 3
   },
   "file_extension": ".py",
   "mimetype": "text/x-python",
   "name": "python",
   "nbconvert_exporter": "python",
   "pygments_lexer": "ipython3",
   "version": "3.10.1"
  },
  "orig_nbformat": 4
 },
 "nbformat": 4,
 "nbformat_minor": 2
}
